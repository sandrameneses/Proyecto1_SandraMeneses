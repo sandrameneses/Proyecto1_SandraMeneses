{
 "cells": [
  {
   "cell_type": "code",
   "execution_count": 16,
   "metadata": {},
   "outputs": [
    {
     "data": {
      "text/plain": [
       "'d:\\\\user\\\\Documents\\\\SANDRA 2023\\\\HENRY\\\\P1 SANDRAMENESES\\\\Proyecto1_SandraMeneses\\\\RECOMENDACIONES'"
      ]
     },
     "execution_count": 16,
     "metadata": {},
     "output_type": "execute_result"
    }
   ],
   "source": [
    "import os\n",
    "os.getcwd()"
   ]
  },
  {
   "cell_type": "code",
   "execution_count": 11,
   "metadata": {},
   "outputs": [
    {
     "name": "stdout",
     "output_type": "stream",
     "text": [
      "Requirement already satisfied: scikit-learn in c:\\users\\sandra\\appdata\\local\\programs\\python\\python311\\lib\\site-packages (1.3.2)\n",
      "Requirement already satisfied: numpy<2.0,>=1.17.3 in c:\\users\\sandra\\appdata\\local\\programs\\python\\python311\\lib\\site-packages (from scikit-learn) (1.25.2)\n",
      "Requirement already satisfied: scipy>=1.5.0 in c:\\users\\sandra\\appdata\\local\\programs\\python\\python311\\lib\\site-packages (from scikit-learn) (1.11.1)\n",
      "Requirement already satisfied: joblib>=1.1.1 in c:\\users\\sandra\\appdata\\local\\programs\\python\\python311\\lib\\site-packages (from scikit-learn) (1.3.2)\n",
      "Requirement already satisfied: threadpoolctl>=2.0.0 in c:\\users\\sandra\\appdata\\local\\programs\\python\\python311\\lib\\site-packages (from scikit-learn) (3.2.0)\n"
     ]
    },
    {
     "name": "stderr",
     "output_type": "stream",
     "text": [
      "\n",
      "[notice] A new release of pip is available: 23.1.2 -> 23.3.2\n",
      "[notice] To update, run: python.exe -m pip install --upgrade pip\n"
     ]
    }
   ],
   "source": [
    "# Propuesta 1: Sistema de Recomendación Ítem-Ítem (Coseno)\n",
    "\n",
    "! pip install scikit-learn\n",
    "from sklearn.metrics.pairwise import cosine_similarity\n",
    "from sklearn.neighbors import NearestNeighbors\n",
    "import pandas as pd\n",
    "\n",
    "# Cargar los DataFrames UsersRecommend.csv y UsersNoRecommend.csv\n",
    "users_recommend = pd.read_csv('DATA FUNCIONES/UsersRecommend.csv')\n",
    "users_no_recommend = pd.read_csv('DATA FUNCIONES/UsersNoRecommend.csv')\n",
    "\n",
    "# Combinar ambos DataFrames para obtener información completa sobre los juegos\n",
    "all_games_info = pd.concat([users_recommend, users_no_recommend], ignore_index=True)\n",
    "\n",
    "# Crear una matriz de características (item-ítem)\n",
    "item_item_matrix = all_games_info.pivot_table(index='Juego', columns='Año', values='Recomendaciones', fill_value=0)\n",
    "\n",
    "# Calcular la similitud del coseno entre los ítems\n",
    "item_similarity = cosine_similarity(item_item_matrix.T)\n",
    "\n",
    "# Crear un modelo de vecinos más cercanos basado en la similitud del coseno\n",
    "model_item_item = NearestNeighbors(metric='cosine', algorithm='brute', n_neighbors=5)\n",
    "model_item_item.fit(item_similarity)\n",
    "\n",
    "# Función para obtener recomendaciones para un juego dado\n",
    "def get_item_recommendations(game_name):\n",
    "    if game_name not in all_games_info['Juego'].values:\n",
    "        return f\"El juego '{game_name}' no está en el conjunto de datos.\"\n",
    "\n",
    "     # Obtener el índice del juego en la matriz\n",
    "    game_index = all_games_info.index[all_games_info['Juego'] == game_name][0]\n",
    "\n",
    "     # Obtener los vecinos más cercanos\n",
    "    _,indices = model_item_item.kneighbors([item_similarity[game_index]])\n",
    "\n",
    "     # Obtener los nombres de los juegos recomendados\n",
    "    recommended_games = all_games_info.iloc[indices[0]]['Juego'].tolist()[1:]\n",
    "\n",
    "    return f\"Juegos recomendados para '{game_name}': {recommended_games}\"\n"
   ]
  },
  {
   "cell_type": "code",
   "execution_count": 12,
   "metadata": {},
   "outputs": [
    {
     "name": "stdout",
     "output_type": "stream",
     "text": [
      "Recomendaciones para 'Audiosurf': Juegos recomendados para 'Audiosurf': ['Chime', 'ArcaniA', 'Counter-Strike: Source', 'DOOM II: Hell on Earth']\n"
     ]
    }
   ],
   "source": [
    "# Ejemplo de uso con un juego real presente en tus datos\n",
    "game_name = 'Audiosurf'\n",
    "recommendations = get_item_recommendations(game_name)\n",
    "\n",
    "print(f\"Recomendaciones para '{game_name}': {recommendations}\")\n"
   ]
  }
 ],
 "metadata": {
  "kernelspec": {
   "display_name": "Python 3",
   "language": "python",
   "name": "python3"
  },
  "language_info": {
   "codemirror_mode": {
    "name": "ipython",
    "version": 3
   },
   "file_extension": ".py",
   "mimetype": "text/x-python",
   "name": "python",
   "nbconvert_exporter": "python",
   "pygments_lexer": "ipython3",
   "version": "3.11.4"
  }
 },
 "nbformat": 4,
 "nbformat_minor": 2
}
